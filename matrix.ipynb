{
  "nbformat": 4,
  "nbformat_minor": 0,
  "metadata": {
    "colab": {
      "name": "matrix.ipynb",
      "provenance": [],
      "collapsed_sections": [],
      "authorship_tag": "ABX9TyOwfuDbouzYhlK+LHCreSkA",
      "include_colab_link": true
    },
    "kernelspec": {
      "name": "python3",
      "display_name": "Python 3"
    },
    "language_info": {
      "name": "python"
    }
  },
  "cells": [
    {
      "cell_type": "markdown",
      "metadata": {
        "id": "view-in-github",
        "colab_type": "text"
      },
      "source": [
        "<a href=\"https://colab.research.google.com/github/chiahaofan/Senior-project/blob/learncode/matrix.ipynb\" target=\"_parent\"><img src=\"https://colab.research.google.com/assets/colab-badge.svg\" alt=\"Open In Colab\"/></a>"
      ]
    },
    {
      "cell_type": "code",
      "execution_count": 10,
      "metadata": {
        "colab": {
          "base_uri": "https://localhost:8080/"
        },
        "id": "oodPQBxjaRO4",
        "outputId": "34cc1725-73b6-41d2-8013-cffcd4875b6c"
      },
      "outputs": [
        {
          "output_type": "stream",
          "name": "stdout",
          "text": [
            "Matrix與Matrix2元素:\n",
            " [1 2 3 4]\n",
            "[[ 1  2  3  4]\n",
            " [ 5  6  7  8]\n",
            " [10 11 12 13]]\n",
            "Matrix維度: 1 , 2\n",
            "Matrix元組: (4,) , (3, 4)\n"
          ]
        }
      ],
      "source": [
        "import numpy as np\n",
        "Matrix = np.array([1, 2, 3, 4])\n",
        "Matrix2 = np.array([[1,2,3,4], [5,6,7,8], [10,11,12,13]])\n",
        "print('Matrix與Matrix2元素:\\n', Matrix, end='\\n')\n",
        "print(Matrix2)\n",
        "print('Matrix維度:', np.ndim(Matrix), \",\", np.ndim(Matrix2))\n",
        "print('Matrix元組(tuple):', Matrix.shape, \",\", Matrix2.shape)"
      ]
    }
  ]
}